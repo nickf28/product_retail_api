{
 "cells": [
  {
   "cell_type": "code",
   "execution_count": null,
   "metadata": {},
   "outputs": [],
   "source": [
    "from orders_api import *\n",
    "from products_api import *\n",
    "from review_api import *\n",
    "from users_api import *"
   ]
  },
  {
   "cell_type": "markdown",
   "metadata": {},
   "source": [
    "### USERS"
   ]
  },
  {
   "cell_type": "code",
   "execution_count": null,
   "metadata": {},
   "outputs": [],
   "source": [
    "# IMPORTING USERS\n",
    "create_new_user(\"nick\", \"nick@something.com\", \"123\")\n",
    "create_new_user(\"john\", \"john@something.com\", \"425\")\n",
    "create_new_user(\"mike\", \"mike@something.com\", \"744\")\n",
    "create_new_user(\"henry\", \"henry@something.com\", \"934\")\n",
    "create_new_user(\"aaron\", \"aaron@something.com\", \"249\")\n",
    "create_new_user(\"thomas\", \"thomas@something.com\", \"835\")"
   ]
  },
  {
   "cell_type": "code",
   "execution_count": null,
   "metadata": {},
   "outputs": [],
   "source": [
    "sign_in_user(\"nick\", \"nick@something.com\", \"123\")"
   ]
  },
  {
   "cell_type": "code",
   "execution_count": null,
   "metadata": {},
   "outputs": [],
   "source": [
    "user = retrieve_user(\"nick\", \"nick@something.com\", \"123\")\n",
    "print(user)"
   ]
  },
  {
   "cell_type": "code",
   "execution_count": null,
   "metadata": {},
   "outputs": [],
   "source": [
    "reset_password(\"nick\", \"nick@something.com\", \"123\", \"new8439\")"
   ]
  },
  {
   "cell_type": "code",
   "execution_count": null,
   "metadata": {},
   "outputs": [],
   "source": [
    "delete_account(\"thomas\", \"thomas@something.com\", \"835\")"
   ]
  },
  {
   "cell_type": "markdown",
   "metadata": {},
   "source": [
    "### PRODUCTS"
   ]
  },
  {
   "cell_type": "code",
   "execution_count": null,
   "metadata": {},
   "outputs": [],
   "source": [
    "g1 = Game(\"Assassins Creed Mirage\", \"Action-Adventure\", \"10/5/2023\", 49.99)\n",
    "g2 = Game(\"Skyrim\", \"Action RPG\", \"11/11/2011\", 19.99)\n",
    "g3 = Game(\"Battlefield 4\", \"FPS\", \"10/29/2013\", 39.99)\n",
    "g4 = Game(\"Mafia II\", \"Action-Adventure\", \"8/23/2010\", 29.99)\n",
    "g5 = Game(\"Prison Architect\", \"Strategy\", \"3/21/2013\", 29.99)\n",
    "\n",
    "upload_product(g1)\n",
    "upload_product(g2)\n",
    "upload_product(g3)\n",
    "upload_product(g4)\n",
    "upload_product(g5)"
   ]
  },
  {
   "cell_type": "code",
   "execution_count": null,
   "metadata": {},
   "outputs": [],
   "source": [
    "product = retrieve_product(\"Skyrim\")\n",
    "print(product)"
   ]
  },
  {
   "cell_type": "code",
   "execution_count": null,
   "metadata": {},
   "outputs": [],
   "source": [
    "modify_product(\"Skyrim\", n_price=100)"
   ]
  },
  {
   "cell_type": "code",
   "execution_count": null,
   "metadata": {},
   "outputs": [],
   "source": [
    "delete_product(\"Prison Architect\")"
   ]
  },
  {
   "cell_type": "markdown",
   "metadata": {},
   "source": [
    "### ORDERS"
   ]
  },
  {
   "cell_type": "code",
   "execution_count": null,
   "metadata": {},
   "outputs": [],
   "source": [
    "upload_order(2, 4)\n",
    "upload_order(4, 1)\n",
    "upload_order(1, 5)\n",
    "upload_order(3, 2)"
   ]
  },
  {
   "cell_type": "code",
   "execution_count": null,
   "metadata": {},
   "outputs": [],
   "source": [
    "order = retrieve_order(2)\n",
    "print(order)"
   ]
  },
  {
   "cell_type": "code",
   "execution_count": null,
   "metadata": {},
   "outputs": [],
   "source": [
    "update_order(2, n_user_id=5)"
   ]
  },
  {
   "cell_type": "code",
   "execution_count": null,
   "metadata": {},
   "outputs": [],
   "source": [
    "delete_order(1)"
   ]
  },
  {
   "cell_type": "markdown",
   "metadata": {},
   "source": [
    "### REVIEWS"
   ]
  },
  {
   "cell_type": "code",
   "execution_count": null,
   "metadata": {},
   "outputs": [],
   "source": [
    "submit_review(2, 10, 2)\n",
    "submit_review(1, 8, 1)\n",
    "submit_review(3, 9, 3)\n",
    "submit_review(4, 9, 3)"
   ]
  },
  {
   "cell_type": "code",
   "execution_count": null,
   "metadata": {},
   "outputs": [],
   "source": [
    "review = retrieve_review(1)\n",
    "print(review)"
   ]
  },
  {
   "cell_type": "code",
   "execution_count": null,
   "metadata": {},
   "outputs": [],
   "source": [
    "change_rating(3, 4)"
   ]
  },
  {
   "cell_type": "code",
   "execution_count": null,
   "metadata": {},
   "outputs": [],
   "source": [
    "delete_review(4)"
   ]
  }
 ],
 "metadata": {
  "kernelspec": {
   "display_name": "Python 3",
   "language": "python",
   "name": "python3"
  },
  "language_info": {
   "codemirror_mode": {
    "name": "ipython",
    "version": 3
   },
   "file_extension": ".py",
   "mimetype": "text/x-python",
   "name": "python",
   "nbconvert_exporter": "python",
   "pygments_lexer": "ipython3",
   "version": "3.11.1"
  }
 },
 "nbformat": 4,
 "nbformat_minor": 2
}
