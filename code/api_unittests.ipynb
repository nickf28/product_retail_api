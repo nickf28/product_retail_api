{
 "cells": [
  {
   "cell_type": "code",
   "execution_count": null,
   "metadata": {},
   "outputs": [],
   "source": [
    "import unittest\n",
    "from orders_api import *\n",
    "from products_api import *\n",
    "from review_api import *\n",
    "from users_api import *"
   ]
  },
  {
   "cell_type": "markdown",
   "metadata": {},
   "source": [
    "#### After running the populate database script, this notebook will use unittests to ensure that the correct exceptions are raised when trying to do something that is invalid as defined in the api code with the custom exceptions."
   ]
  },
  {
   "cell_type": "code",
   "execution_count": null,
   "metadata": {},
   "outputs": [],
   "source": [
    "class UserUnitTests(unittest.TestCase):    \n",
    "    def test_users(self):\n",
    "        self.assertRaises(UserAlreadyExists, create_new_user, \"nick\", \"nick@something.com\", \"123\")\n",
    "        self.assertRaises(InvalidSignIn, sign_in_user, \"test\", \"test@something.com\", \"234\")\n",
    "        self.assertRaises(UserNotFound, retrieve_user, \"test\", \"test@something.com\", \"234\")\n",
    "        self.assertRaises(UserNotFound, reset_password, \"test\", \"test@something.com\", \"835\", \"new235\")\n",
    "        self.assertRaises(UserNotFound, delete_account, \"test\", \"test@something.com\", \"234\")"
   ]
  },
  {
   "cell_type": "code",
   "execution_count": null,
   "metadata": {},
   "outputs": [],
   "source": [
    "class ProductUnitTests(unittest.TestCase):\n",
    "    def test_products(self):\n",
    "        self.assertRaises(ProductAlreadyExists, upload_product, Game(\"Assassins Creed Mirage\", \"Action-Adventure\", \"10/5/2023\", 49.99))\n",
    "        self.assertRaises(ProductNotFound, retrieve_product, \"test\")\n",
    "        self.assertRaises(ProductNotFound, modify_product, \"test\", n_genre=\"idk\")\n",
    "        self.assertRaises(ProductNotFound, delete_product, \"test\")"
   ]
  },
  {
   "cell_type": "code",
   "execution_count": null,
   "metadata": {},
   "outputs": [],
   "source": [
    "class OrderUnitTests(unittest.TestCase):\n",
    "    def test_products(self):\n",
    "        self.assertRaises(ProductNotFound, upload_order, 52, 3)\n",
    "        self.assertRaises(OrderNotFound, retrieve_order, 31)\n",
    "        self.assertRaises(OrderNotFound, update_order, 27, n_product_id=3)\n",
    "        self.assertRaises(OrderNotFound, delete_order, 432)"
   ]
  },
  {
   "cell_type": "code",
   "execution_count": null,
   "metadata": {},
   "outputs": [],
   "source": [
    "class ReviewUnitTests(unittest.TestCase):\n",
    "    def test_products(self):\n",
    "        self.assertRaises(ReviewExistsForProduct, submit_review, 2, 10, 2)\n",
    "        self.assertRaises(ReviewNotFound, retrieve_review, 8)\n",
    "        self.assertRaises(ReviewRatingOutOfRange, change_rating, 2, 13)\n",
    "        self.assertRaises(ReviewNotFound, delete_review, 10)"
   ]
  },
  {
   "cell_type": "code",
   "execution_count": null,
   "metadata": {},
   "outputs": [],
   "source": [
    "unittest.main(argv=[''], exit=False)"
   ]
  }
 ],
 "metadata": {
  "kernelspec": {
   "display_name": "Python 3",
   "language": "python",
   "name": "python3"
  },
  "language_info": {
   "codemirror_mode": {
    "name": "ipython",
    "version": 3
   },
   "file_extension": ".py",
   "mimetype": "text/x-python",
   "name": "python",
   "nbconvert_exporter": "python",
   "pygments_lexer": "ipython3",
   "version": "3.11.1"
  }
 },
 "nbformat": 4,
 "nbformat_minor": 2
}
