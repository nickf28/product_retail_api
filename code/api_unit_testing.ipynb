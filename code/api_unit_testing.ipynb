{
 "cells": [
  {
   "cell_type": "code",
   "execution_count": 1,
   "metadata": {},
   "outputs": [],
   "source": [
    "import unittest\n",
    "from orders_api import *\n",
    "from products_api import *\n",
    "from review_api import *\n",
    "from users_api import *"
   ]
  },
  {
   "cell_type": "code",
   "execution_count": 2,
   "metadata": {},
   "outputs": [],
   "source": [
    "class UserUnitTests(unittest.TestCase):\n",
    "    def setUp(self):\n",
    "        create_new_user(\"nick\", \"nick@something.com\", \"123\")\n",
    "        create_new_user(\"john\", \"john@something.com\", \"425\")\n",
    "        create_new_user(\"mike\", \"mike@something.com\", \"744\")\n",
    "        create_new_user(\"henry\", \"henry@something.com\", \"934\")\n",
    "        create_new_user(\"aaron\", \"aaron@something.com\", \"249\")\n",
    "        create_new_user(\"thomas\", \"thomas@something.com\", \"835\")\n",
    "    \n",
    "    def test_users(self):\n",
    "        self.assertTrue(sign_in_user(\"nick\", \"nick@something.com\", \"123\"))\n",
    "        self.assertEqual(retrieve_user(\"nick\", \"nick@something.com\", \"123\"), User(\"nick\", \"nick@something.com\", \"123\"))\n",
    "        self.assertTrue(reset_password(\"nick\", \"nick@something.com\", \"123\", \"new8439\"))\n",
    "        self.assertTrue(delete_account(\"thomas\", \"thomas@something.com\", \"835\"))\n",
    "        \n",
    "        # checking exceptions\n",
    "        self.assertRaises(UserAlreadyExists, create_new_user, \"nick\", \"nick@something.com\", \"123\")\n",
    "        self.assertRaises(InvalidSignIn, sign_in_user, \"test\", \"test@something.com\", \"234\")\n",
    "        self.assertRaises(UserNotFound, retrieve_user, \"test\", \"test@something.com\", \"234\")\n",
    "        self.assertRaises(UserNotFound, reset_password, \"test\", \"test@something.com\", \"835\", \"new235\")\n",
    "        self.assertRaises(UserNotFound, delete_account, \"test\", \"test@something.com\", \"234\")"
   ]
  },
  {
   "cell_type": "code",
   "execution_count": 3,
   "metadata": {},
   "outputs": [],
   "source": [
    "class ProductUnitTests(unittest.TestCase):\n",
    "    def setUp(self):\n",
    "        g1 = Game(\"Assassins Creed Mirage\", \"Action-Adventure\", \"10/5/2023\", 49.99)\n",
    "        g2 = Game(\"Skyrim\", \"Action RPG\", \"11/11/2011\", 19.99)\n",
    "        g3 = Game(\"Battlefield 4\", \"FPS\", \"10/29/2013\", 39.99)\n",
    "        g4 = Game(\"Mafia II\", \"Action-Adventure\", \"8/23/2010\", 29.99)\n",
    "        g5 = Game(\"Prison Architect\", \"Strategy\", \"3/21/2013\", 29.99)\n",
    "\n",
    "        upload_product(g1)\n",
    "        upload_product(g2)\n",
    "        upload_product(g3)\n",
    "        upload_product(g4)\n",
    "        upload_product(g5)\n",
    "    \n",
    "    def test_products(self):\n",
    "        self.assertEqual(retrieve_product(\"Skyrim\"), Game(\"Skyrim\", \"Action RPG\", \"11/11/2011\", 19.99))\n",
    "        self.assertTrue(modify_product(\"Skyrim\", n_price=100))\n",
    "        self.assertTrue(delete_product(\"Prison Architect\"))\n",
    "        \n",
    "        # checking exceptions\n",
    "        self.assertRaises(ProductAlreadyExists, upload_product, Game(\"Assassins Creed Mirage\", \"Action-Adventure\", \"10/5/2023\", 49.99))\n",
    "        self.assertRaises(ProductNotFound, retrieve_product, \"test\")\n",
    "        self.assertRaises(ProductNotFound, modify_product, \"test\", n_genre=\"idk\")\n",
    "        self.assertRaises(ProductNotFound, delete_product, \"test\")"
   ]
  },
  {
   "cell_type": "code",
   "execution_count": 4,
   "metadata": {},
   "outputs": [],
   "source": [
    "class OrderUnitTests(unittest.TestCase):\n",
    "    def setUp(self):\n",
    "        upload_order(2, 4)\n",
    "        upload_order(4, 1)\n",
    "        upload_order(1, 5)\n",
    "        upload_order(3, 2)\n",
    "    \n",
    "    def test_products(self):\n",
    "        self.assertEqual(retrieve_order(2), Order(2, 4, 1))\n",
    "        self.assertTrue(update_order(2, n_user_id=5))\n",
    "        self.assertTrue(delete_order(1))\n",
    "        \n",
    "        # checking exceptions\n",
    "        self.assertRaises(ProductNotFound, upload_order, 52, 3)\n",
    "        self.assertRaises(OrderNotFound, retrieve_order, 31)\n",
    "        self.assertRaises(OrderNotFound, update_order, 27, n_product_id=3)\n",
    "        self.assertRaises(OrderNotFound, delete_order, 432)"
   ]
  },
  {
   "cell_type": "code",
   "execution_count": 5,
   "metadata": {},
   "outputs": [],
   "source": [
    "class ReviewUnitTests(unittest.TestCase):\n",
    "    def setUp(self):\n",
    "        submit_review(2, 10, 2)\n",
    "        submit_review(1, 8, 1)\n",
    "        submit_review(3, 9, 3)\n",
    "        submit_review(4, 9, 3)\n",
    "    \n",
    "    def test_products(self):\n",
    "        self.assertEqual(retrieve_review(1), Review(1, 2, 10, 2))\n",
    "        self.assertTrue(change_rating(3, 4))\n",
    "        self.assertTrue(delete_review(4))\n",
    "        \n",
    "        # checking exceptions\n",
    "        self.assertRaises(ReviewExistsForProduct, submit_review, 2, 10, 2)\n",
    "        self.assertRaises(ReviewNotFound, retrieve_review, 8)\n",
    "        self.assertRaises(ReviewRatingOutOfRange, change_rating, 2, 13)\n",
    "        self.assertRaises(ReviewNotFound, delete_review, 10)"
   ]
  },
  {
   "cell_type": "code",
   "execution_count": 6,
   "metadata": {},
   "outputs": [
    {
     "name": "stderr",
     "output_type": "stream",
     "text": [
      "E.E.\n",
      "======================================================================\n",
      "ERROR: test_products (__main__.OrderUnitTests.test_products)\n",
      "----------------------------------------------------------------------\n",
      "Traceback (most recent call last):\n",
      "  File \"C:\\Users\\xcodf\\AppData\\Local\\Temp\\ipykernel_8988\\4045665564.py\", line 3, in setUp\n",
      "    upload_order(2, 4)\n",
      "  File \"c:\\Users\\xcodf\\Documents\\VSC workspaces\\cognixia\\PEP_product_retail\\orders_api.py\", line 10, in upload_order\n",
      "    raise ProductNotFound\n",
      "exceptions.ProductNotFound: Product with title not found within the table.\n",
      "\n",
      "======================================================================\n",
      "ERROR: test_products (__main__.ReviewUnitTests.test_products)\n",
      "----------------------------------------------------------------------\n",
      "Traceback (most recent call last):\n",
      "  File \"C:\\Users\\xcodf\\AppData\\Local\\Temp\\ipykernel_8988\\3742984058.py\", line 3, in setUp\n",
      "    submit_review(2, 10, 2)\n",
      "  File \"c:\\Users\\xcodf\\Documents\\VSC workspaces\\cognixia\\PEP_product_retail\\review_api.py\", line 16, in submit_review\n",
      "    raise UserNotFound\n",
      "exceptions.UserNotFound: User not found.\n",
      "\n",
      "----------------------------------------------------------------------\n",
      "Ran 4 tests in 0.066s\n",
      "\n",
      "FAILED (errors=2)\n"
     ]
    },
    {
     "data": {
      "text/plain": [
       "<unittest.main.TestProgram at 0x208ec0e1350>"
      ]
     },
     "execution_count": 6,
     "metadata": {},
     "output_type": "execute_result"
    }
   ],
   "source": [
    "unittest.main(argv=[''], exit=False)"
   ]
  }
 ],
 "metadata": {
  "kernelspec": {
   "display_name": "Python 3",
   "language": "python",
   "name": "python3"
  },
  "language_info": {
   "codemirror_mode": {
    "name": "ipython",
    "version": 3
   },
   "file_extension": ".py",
   "mimetype": "text/x-python",
   "name": "python",
   "nbconvert_exporter": "python",
   "pygments_lexer": "ipython3",
   "version": "3.11.1"
  }
 },
 "nbformat": 4,
 "nbformat_minor": 2
}
