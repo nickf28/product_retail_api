{
 "cells": [
  {
   "cell_type": "code",
   "execution_count": 1,
   "metadata": {},
   "outputs": [],
   "source": [
    "import sqlite3"
   ]
  },
  {
   "cell_type": "code",
   "execution_count": 2,
   "metadata": {},
   "outputs": [],
   "source": [
    "conn = sqlite3.connect(\"product_retail.db\")\n",
    "cursor = conn.cursor()"
   ]
  },
  {
   "cell_type": "code",
   "execution_count": 3,
   "metadata": {},
   "outputs": [],
   "source": [
    "# USER TABLE\n",
    "users_table = \"\"\"\n",
    "create table users(\n",
    "    user_id integer primary key autoincrement,\n",
    "    username text,\n",
    "    email text,\n",
    "    password text\n",
    ")\n",
    "\"\"\"\n",
    "\n",
    "cursor.execute(users_table)\n",
    "conn.commit()"
   ]
  },
  {
   "cell_type": "code",
   "execution_count": 4,
   "metadata": {},
   "outputs": [],
   "source": [
    "# PRODUCT TABLE\n",
    "product_table = \"\"\"\n",
    "create table products(\n",
    "    product_id integer primary key autoincrement,\n",
    "    title text,\n",
    "    genre text,\n",
    "    release_date date,\n",
    "    price real\n",
    ")\n",
    "\"\"\"\n",
    "\n",
    "cursor.execute(product_table)\n",
    "conn.commit()"
   ]
  },
  {
   "cell_type": "code",
   "execution_count": 5,
   "metadata": {},
   "outputs": [],
   "source": [
    "# ORDER TABLE\n",
    "order_table = \"\"\"\n",
    "create table orders(\n",
    "    order_id integer primary key autoincrement,\n",
    "    product_id integer,\n",
    "    user_id integer,\n",
    "    foreign key (product_id) references products (product_id),\n",
    "    foreign key (user_id) references users (user_id)\n",
    ")\n",
    "\"\"\"\n",
    "\n",
    "cursor.execute(order_table)\n",
    "conn.commit()"
   ]
  },
  {
   "cell_type": "code",
   "execution_count": 6,
   "metadata": {},
   "outputs": [],
   "source": [
    "# REVIEW TABLE\n",
    "review_table = \"\"\"\n",
    "create table reviews(\n",
    "    review_id integer primary key autoincrement,\n",
    "    product_id integer,\n",
    "    rating integer,\n",
    "    user_id integer,\n",
    "    foreign key (user_id) references users (user_id),\n",
    "    foreign key (product_id) references products (product_id)\n",
    ")\n",
    "\"\"\"\n",
    "\n",
    "cursor.execute(review_table)\n",
    "conn.commit()"
   ]
  }
 ],
 "metadata": {
  "kernelspec": {
   "display_name": "Python 3",
   "language": "python",
   "name": "python3"
  },
  "language_info": {
   "codemirror_mode": {
    "name": "ipython",
    "version": 3
   },
   "file_extension": ".py",
   "mimetype": "text/x-python",
   "name": "python",
   "nbconvert_exporter": "python",
   "pygments_lexer": "ipython3",
   "version": "3.11.1"
  }
 },
 "nbformat": 4,
 "nbformat_minor": 2
}
