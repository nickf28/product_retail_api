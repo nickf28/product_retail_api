{
 "cells": [
  {
   "cell_type": "code",
   "execution_count": null,
   "metadata": {},
   "outputs": [],
   "source": [
    "import sqlite3"
   ]
  },
  {
   "cell_type": "code",
   "execution_count": null,
   "metadata": {},
   "outputs": [],
   "source": [
    "conn = sqlite3.connect(\"product_retail.db\")\n",
    "cursor = conn.cursor()"
   ]
  },
  {
   "cell_type": "code",
   "execution_count": null,
   "metadata": {},
   "outputs": [],
   "source": [
    "# Sort by price\n",
    "\n",
    "sorted_by_price = cursor.execute(\"select * from products order by price desc\").fetchall()\n",
    "\n",
    "for entry in sorted_by_price:\n",
    "    print(entry)"
   ]
  },
  {
   "cell_type": "code",
   "execution_count": null,
   "metadata": {},
   "outputs": [],
   "source": [
    "# Sort by popularity\n",
    "\n",
    "\n",
    "sorted_by_popularity = cursor.execute(\"\"\"\n",
    "select products.product_id, title, genre, release_date, price, count(orders.product_id) as order_count\n",
    "from products\n",
    "left join orders on products.product_id = orders.product_id\n",
    "group by products.product_id\n",
    "order by order_count desc;\n",
    "\"\"\").fetchall()\n",
    "\n",
    "for entry in sorted_by_popularity:\n",
    "    print(entry)"
   ]
  },
  {
   "cell_type": "code",
   "execution_count": null,
   "metadata": {},
   "outputs": [],
   "source": [
    "# Sort products by genre alphabetically\n",
    "\n",
    "sorted_by_genre = cursor.execute(\"select * from products order by genre\").fetchall()\n",
    "\n",
    "for entry in sorted_by_genre:\n",
    "    print(entry)"
   ]
  }
 ],
 "metadata": {
  "kernelspec": {
   "display_name": "Python 3",
   "language": "python",
   "name": "python3"
  },
  "language_info": {
   "codemirror_mode": {
    "name": "ipython",
    "version": 3
   },
   "file_extension": ".py",
   "mimetype": "text/x-python",
   "name": "python",
   "nbconvert_exporter": "python",
   "pygments_lexer": "ipython3",
   "version": "3.11.1"
  }
 },
 "nbformat": 4,
 "nbformat_minor": 2
}
